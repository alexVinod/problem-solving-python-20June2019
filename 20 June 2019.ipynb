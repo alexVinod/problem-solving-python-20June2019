{
 "cells": [
  {
   "cell_type": "markdown",
   "metadata": {},
   "source": [
    "## 20 June 2019\n",
    "### Day Objectives :\n",
    "- Regular Expressions\n",
    "    - Constructing Regular Expressions for Various use cases\n",
    "    - Regular Expressions Module and related in Python\n",
    "    - Improving the contacts application with name and phone number validation using regular expressions\n",
    "- File Handling\n",
    "    - Text Files\n",
    "    - Upgrading the Contacts Application to store contact information in a text file"
   ]
  },
  {
   "cell_type": "markdown",
   "metadata": {},
   "source": [
    "### Regular Expressions\n",
    "- Pattern Matching\n",
    "- Symbolic Notation of a pattern\n",
    "    - Pattern : Format which repeats\n",
    "    - Pattern(RE) represents The set of all values that match  strings matches that pattern\n",
    "- `[0-9]` -> Any digit \n",
    "- `[a-z]` -> Any lower case alphabet\n",
    "- `[A-Z]` -> Any upper case alphabet\n",
    "- `[2468]` -> All single digit\n",
    "- `^[0-9]{1}$` -> Only single digit numbers\n",
    "- `^[0-9]{3}$` -> 3 digit numbers\n",
    "- `[0-9]*0$` -> All multiplles of 10\n",
    "- `^[1-9][0-9]*[05]$` -> All multiples of 5 `^([1-9][0-9]*[05])$|^([5])$`\n",
    "- `([p][r][i][n][t])|(print)`  -> searching a word\n",
    "- `^[0-9]{10}$`   -> All 10 digits numbers\n",
    "-  `^[6-9][0-9]{9}$|^[0][6-9][0-9]{9}|[+][9][1][6-9][0-9]{9}$` -> Validating Phone number (India) (start with 6,7,8,9 and +91)\n",
    "- Email Validation (username@domain.extension)\n",
    "    - Username\n",
    "        - Length of username : [6,15]\n",
    "        - No Special characters other than _ .\n",
    "        - Should not begin and end with _ .\n",
    "        - Character Set : all digits and alphabet _.\n",
    "    - domain\n",
    "        - Length of domain : [3, 18]\n",
    "        - No Special characters\n",
    "        - Character Set : all digits and alphabet\n",
    "    - extension\n",
    "        - Length  of extension : [2, 4]\n",
    "        - No Special characters\n",
    "        - Character Set : alphabet\n",
    "    - Mail Pattern : `^[a-z0-9._%+-]+@[a-z0-9._]+\\.[a-z]{2,4}$` and `^[0-9a-z][0-9a-z_.]{4,13}[0-9a-z][@][a-z0-9]{3,18}[.][a-z]{2,4}$`\n",
    "- `^[a]...[z]$` -> Any character starts with a and ends with z length of 5 \n",
    "- `^[a].*[z]$` -> Any character starts with a and ends with z"
   ]
  },
  {
   "cell_type": "code",
   "execution_count": 6,
   "metadata": {},
   "outputs": [
    {
     "name": "stdout",
     "output_type": "stream",
     "text": [
      "Valid Number\n",
      "Valid Email\n"
     ]
    }
   ],
   "source": [
    "# Function to Validate a phone Number\n",
    "import re\n",
    "def phoneNumberValidator(number):\n",
    "    pattern = '^[6-9][0-9]{9}$|^[0][6-9][0-9]{9}|[+][9][1][6-9][0-9]{9}$'\n",
    "    if re.match(pattern, str(number)):\n",
    "        print(\"Valid Number\")\n",
    "    else:\n",
    "        print(\"Invalid Number\")\n",
    "    return\n",
    "phoneNumberValidator(9701550994)\n",
    "\n",
    "def emailValidator(email):\n",
    "    pattern = \"^[a-z0-9._%+-]+@[a-z0-9._]+\\.[a-z]{2,4}$\"\n",
    "    if re.match(pattern,str(email)):\n",
    "        print(\"Valid Email\")\n",
    "    else:\n",
    "        print(\"Invalid Email\")\n",
    "    return\n",
    "emailValidator('pasupuletivinod9@gmail.com')"
   ]
  },
  {
   "cell_type": "code",
   "execution_count": 13,
   "metadata": {},
   "outputs": [
    {
     "name": "stdout",
     "output_type": "stream",
     "text": [
      "Name :k\n",
      "Phoe :9780257412\n",
      "Email :s@g.com\n"
     ]
    },
    {
     "ename": "NameError",
     "evalue": "name 'phoneNumberValidator' is not defined",
     "output_type": "error",
     "traceback": [
      "\u001b[1;31m---------------------------------------------------------------------------\u001b[0m",
      "\u001b[1;31mNameError\u001b[0m                                 Traceback (most recent call last)",
      "\u001b[1;32m<ipython-input-13-d18260f8d91b>\u001b[0m in \u001b[0;36m<module>\u001b[1;34m\u001b[0m\n\u001b[0;32m     21\u001b[0m \u001b[0mphone\u001b[0m\u001b[1;33m=\u001b[0m\u001b[0minput\u001b[0m\u001b[1;33m(\u001b[0m\u001b[1;34m\"Phoe :\"\u001b[0m\u001b[1;33m)\u001b[0m\u001b[1;33m\u001b[0m\u001b[1;33m\u001b[0m\u001b[0m\n\u001b[0;32m     22\u001b[0m \u001b[0memail\u001b[0m\u001b[1;33m=\u001b[0m\u001b[0minput\u001b[0m\u001b[1;33m(\u001b[0m\u001b[1;34m\"Email :\"\u001b[0m\u001b[1;33m)\u001b[0m\u001b[1;33m\u001b[0m\u001b[1;33m\u001b[0m\u001b[0m\n\u001b[1;32m---> 23\u001b[1;33m \u001b[0maddContact\u001b[0m\u001b[1;33m(\u001b[0m\u001b[0mname\u001b[0m\u001b[1;33m,\u001b[0m\u001b[0mphone\u001b[0m\u001b[1;33m,\u001b[0m\u001b[0memail\u001b[0m\u001b[1;33m)\u001b[0m\u001b[1;33m\u001b[0m\u001b[1;33m\u001b[0m\u001b[0m\n\u001b[0m\u001b[0;32m     24\u001b[0m \u001b[0mprint\u001b[0m\u001b[1;33m(\u001b[0m\u001b[0mcontacts\u001b[0m\u001b[1;33m)\u001b[0m\u001b[1;33m\u001b[0m\u001b[1;33m\u001b[0m\u001b[0m\n",
      "\u001b[1;32m<ipython-input-13-d18260f8d91b>\u001b[0m in \u001b[0;36maddContact\u001b[1;34m(name, phone, email)\u001b[0m\n\u001b[0;32m      6\u001b[0m         \u001b[0mprint\u001b[0m\u001b[1;33m(\u001b[0m\u001b[0mname\u001b[0m\u001b[1;33m,\u001b[0m\u001b[1;34m\"Already exists...!\"\u001b[0m\u001b[1;33m)\u001b[0m\u001b[1;33m\u001b[0m\u001b[1;33m\u001b[0m\u001b[0m\n\u001b[0;32m      7\u001b[0m     \u001b[1;32melse\u001b[0m\u001b[1;33m:\u001b[0m\u001b[1;33m\u001b[0m\u001b[1;33m\u001b[0m\u001b[0m\n\u001b[1;32m----> 8\u001b[1;33m         \u001b[1;32mif\u001b[0m \u001b[1;32mnot\u001b[0m \u001b[0mphoneNumberValidator\u001b[0m\u001b[1;33m(\u001b[0m\u001b[0mphone\u001b[0m\u001b[1;33m)\u001b[0m\u001b[1;33m:\u001b[0m\u001b[1;33m\u001b[0m\u001b[1;33m\u001b[0m\u001b[0m\n\u001b[0m\u001b[0;32m      9\u001b[0m             \u001b[0mprint\u001b[0m\u001b[1;33m(\u001b[0m\u001b[1;34m\"Invalid Phone number\"\u001b[0m\u001b[1;33m)\u001b[0m\u001b[1;33m\u001b[0m\u001b[1;33m\u001b[0m\u001b[0m\n\u001b[0;32m     10\u001b[0m             \u001b[1;32mreturn\u001b[0m\u001b[1;33m\u001b[0m\u001b[1;33m\u001b[0m\u001b[0m\n",
      "\u001b[1;31mNameError\u001b[0m: name 'phoneNumberValidator' is not defined"
     ]
    }
   ],
   "source": [
    "contacts = {\"name1\":[9701550994,\"alex.apssdc@gmail.com\"], \"name2\":[9701550994,\"al.apssdc@gmail.com\"]}\n",
    "\n",
    "def addContact(name, phone,email):\n",
    "    # Verify the contact doesn't already exist\n",
    "    if name in contacts :        \n",
    "        print(name,\"Already exists...!\")\n",
    "    else:\n",
    "        if not phoneNumberValidator(phone):\n",
    "            print(\"Invalid Phone number\")\n",
    "            return\n",
    "        if not emailValidator(email):\n",
    "            print(\"Invalid Email address\")\n",
    "            return\n",
    "        newcontact=[]\n",
    "        newcontact.append(phone)\n",
    "        newcontact.append(email)\n",
    "        contacts[name] = newcontact\n",
    "        print(name, \"added Succesfully...!\")\n",
    "\n",
    "name=input(\"Name :\")\n",
    "phone=input(\"Phoe :\")\n",
    "email=input(\"Email :\")\n",
    "addContact(name,phone,email)\n",
    "print(contacts)"
   ]
  },
  {
   "cell_type": "code",
   "execution_count": null,
   "metadata": {},
   "outputs": [],
   "source": [
    "def searchContacts(name):\n",
    "    if name in contacts:\n",
    "        print(name)\n",
    "        print(\"Phone :\", contacts[name][0])\n",
    "        print(\"Phone :\", contacts[name][1])"
   ]
  },
  {
   "cell_type": "code",
   "execution_count": 9,
   "metadata": {},
   "outputs": [
    {
     "ename": "AttributeError",
     "evalue": "'dict' object has no attribute 'key'",
     "output_type": "error",
     "traceback": [
      "\u001b[1;31m---------------------------------------------------------------------------\u001b[0m",
      "\u001b[1;31mAttributeError\u001b[0m                            Traceback (most recent call last)",
      "\u001b[1;32m<ipython-input-9-cf3734fc2ec2>\u001b[0m in \u001b[0;36m<module>\u001b[1;34m\u001b[0m\n\u001b[0;32m      4\u001b[0m     \u001b[1;32mreturn\u001b[0m\u001b[1;33m\u001b[0m\u001b[1;33m\u001b[0m\u001b[0m\n\u001b[0;32m      5\u001b[0m \u001b[0mnewContacts\u001b[0m\u001b[1;33m=\u001b[0m \u001b[1;33m{\u001b[0m\u001b[1;34m\"name4\"\u001b[0m\u001b[1;33m:\u001b[0m\u001b[1;33m[\u001b[0m\u001b[1;36m8784848440\u001b[0m\u001b[1;33m,\u001b[0m\u001b[1;34m'al@g.com'\u001b[0m\u001b[1;33m]\u001b[0m\u001b[1;33m}\u001b[0m\u001b[1;33m\u001b[0m\u001b[1;33m\u001b[0m\u001b[0m\n\u001b[1;32m----> 6\u001b[1;33m \u001b[0mimportContacts\u001b[0m\u001b[1;33m(\u001b[0m\u001b[0mnewContacts\u001b[0m\u001b[1;33m)\u001b[0m\u001b[1;33m\u001b[0m\u001b[1;33m\u001b[0m\u001b[0m\n\u001b[0m",
      "\u001b[1;32m<ipython-input-9-cf3734fc2ec2>\u001b[0m in \u001b[0;36mimportContacts\u001b[1;34m(newContacts)\u001b[0m\n\u001b[0;32m      1\u001b[0m \u001b[1;32mdef\u001b[0m \u001b[0mimportContacts\u001b[0m\u001b[1;33m(\u001b[0m\u001b[0mnewContacts\u001b[0m\u001b[1;33m)\u001b[0m\u001b[1;33m:\u001b[0m\u001b[1;33m\u001b[0m\u001b[1;33m\u001b[0m\u001b[0m\n\u001b[0;32m      2\u001b[0m     \u001b[0mcontacts\u001b[0m\u001b[1;33m.\u001b[0m\u001b[0mupdate\u001b[0m\u001b[1;33m(\u001b[0m\u001b[0mnewContacts\u001b[0m\u001b[1;33m)\u001b[0m\u001b[1;33m\u001b[0m\u001b[1;33m\u001b[0m\u001b[0m\n\u001b[1;32m----> 3\u001b[1;33m     \u001b[0mprint\u001b[0m\u001b[1;33m(\u001b[0m\u001b[0mlen\u001b[0m\u001b[1;33m(\u001b[0m\u001b[0mnewContacts\u001b[0m\u001b[1;33m.\u001b[0m\u001b[0mkey\u001b[0m\u001b[1;33m(\u001b[0m\u001b[1;33m)\u001b[0m\u001b[1;33m)\u001b[0m\u001b[1;33m,\u001b[0m\u001b[1;34m\"Contacts added\"\u001b[0m\u001b[1;33m)\u001b[0m\u001b[1;33m\u001b[0m\u001b[1;33m\u001b[0m\u001b[0m\n\u001b[0m\u001b[0;32m      4\u001b[0m     \u001b[1;32mreturn\u001b[0m\u001b[1;33m\u001b[0m\u001b[1;33m\u001b[0m\u001b[0m\n\u001b[0;32m      5\u001b[0m \u001b[0mnewContacts\u001b[0m\u001b[1;33m=\u001b[0m \u001b[1;33m{\u001b[0m\u001b[1;34m\"name4\"\u001b[0m\u001b[1;33m:\u001b[0m\u001b[1;33m[\u001b[0m\u001b[1;36m8784848440\u001b[0m\u001b[1;33m,\u001b[0m\u001b[1;34m'al@g.com'\u001b[0m\u001b[1;33m]\u001b[0m\u001b[1;33m}\u001b[0m\u001b[1;33m\u001b[0m\u001b[1;33m\u001b[0m\u001b[0m\n",
      "\u001b[1;31mAttributeError\u001b[0m: 'dict' object has no attribute 'key'"
     ]
    }
   ],
   "source": [
    "def importContacts(newContacts):\n",
    "    contacts.update(newContacts)\n",
    "    print(len(newContacts.key()),\"Contacts added\")\n",
    "    return\n",
    "newContacts= {\"name4\":[8784848440,'al@g.com']}\n",
    "importContacts(newContacts)\n"
   ]
  },
  {
   "cell_type": "code",
   "execution_count": 11,
   "metadata": {},
   "outputs": [
    {
     "name": "stdout",
     "output_type": "stream",
     "text": [
      "name1 \n",
      " Phone : 9701550994 \n",
      " Email : alex.apssdc@gmail.com\n"
     ]
    },
    {
     "data": {
      "text/plain": [
       "{'name1': [9701550994, 'alex.apssdc@gmail.com']}"
      ]
     },
     "execution_count": 11,
     "metadata": {},
     "output_type": "execute_result"
    }
   ],
   "source": [
    "# Function to list all contacts\n",
    "def listAllContacts():    \n",
    "    for contact,info in contacts.items():\n",
    "        print(contact,\"\\n Phone :\",info[0],\"\\n Email :\",info[1])\n",
    "listAllContacts()\n",
    "contacts"
   ]
  },
  {
   "cell_type": "code",
   "execution_count": 20,
   "metadata": {},
   "outputs": [],
   "source": [
    "# Function to edit contact information\n",
    "def editContact(name,phone,email):\n",
    "    if name in contacts.keys():\n",
    "        print(\"Yes\")\n"
   ]
  },
  {
   "cell_type": "markdown",
   "metadata": {},
   "source": [
    "#### File Handling in Python :\n",
    "File - Document containing information residing\n",
    "Types - Text Files and Binary Files (Text, PDF, CSV, Videos etc)\n",
    "\n",
    "File I/O - Channelling I/O data to files\n",
    "Default I/O channels - Keyboard / Screen\n",
    "\n",
    "Change I/O channel to files for Reading and writing\n",
    "\n",
    "Read a file - Input from file\n",
    "Write to a file - Output to a file\n",
    "\n",
    "Read / write file - open(filename, mode)\n",
    "\n",
    "\n",
    "\n"
   ]
  },
  {
   "cell_type": "code",
   "execution_count": 32,
   "metadata": {},
   "outputs": [
    {
     "name": "stdout",
     "output_type": "stream",
     "text": [
      "A regular expression, regex or regexp (sometimes called a rational expression) is a sequence of characters that define a search pattern. Usually such patterns are used by string searching algorithms for \"find\" or \"find and replace\" operations on strings, or for input validation. It is a technique developed in theoretical computer science and formal language theory.\n",
      "\n",
      "Line2\n",
      "Line3\n",
      "\n",
      "Line4\n"
     ]
    }
   ],
   "source": [
    "# Function to read a file\n",
    "def readFile(filename):\n",
    "    file = open(filename,'r')\n",
    "    print(file.read())\n",
    "filename='./DataFiles/data.txt'    \n",
    "readFile(filename)"
   ]
  },
  {
   "cell_type": "code",
   "execution_count": 6,
   "metadata": {},
   "outputs": [
    {
     "name": "stdout",
     "output_type": "stream",
     "text": [
      "Hello Guru"
     ]
    }
   ],
   "source": [
    "def printFileDataLines(filename):\n",
    "    # f=open(filename,'r')\n",
    "    # for line in f:\n",
    "    #    print(line)\n",
    "    #return\n",
    "    with open(filename,'r') as f:\n",
    "        for line in f:\n",
    "            print(line,end='')\n",
    "    return\n",
    "filename='./DataFiles/data.txt'\n",
    "printFileDataLines(filename)"
   ]
  },
  {
   "cell_type": "code",
   "execution_count": 5,
   "metadata": {},
   "outputs": [
    {
     "name": "stdout",
     "output_type": "stream",
     "text": [
      "Hello Guru\n"
     ]
    }
   ],
   "source": [
    "# Function to write data into a file\n",
    "def writeIntoFile(filename, filedata):\n",
    "    with open(filename,'w') as f:\n",
    "        f.write(filedata)\n",
    "    return\n",
    "filedata=input()\n",
    "writeIntoFile(filename,filedata)\n"
   ]
  },
  {
   "cell_type": "code",
   "execution_count": 12,
   "metadata": {},
   "outputs": [
    {
     "name": "stdout",
     "output_type": "stream",
     "text": [
      "lkje\n"
     ]
    },
    {
     "data": {
      "text/plain": [
       "{'name1': [9701550994, 'alex.apssdc@gmail.com']}"
      ]
     },
     "execution_count": 12,
     "metadata": {},
     "output_type": "execute_result"
    }
   ],
   "source": [
    "# Function to append data to a file\n",
    "def appendIntoFile(filename, filedata):\n",
    "    with open(filename,'a') as fa:\n",
    "        fa.write(filedata)\n",
    "    return \n",
    "filedata=input()\n",
    "appendIntoFile(filename,filedata)"
   ]
  },
  {
   "cell_type": "code",
   "execution_count": 38,
   "metadata": {},
   "outputs": [],
   "source": [
    "def appendIntoFile(filename):\n",
    "    with open(filename,'a') as fa:\n",
    "        for contact,info in contacts.items():            \n",
    "            fa.write(contact+\",\"+str(info[0])+\",\"+info[1]+\"\\n\")\n",
    "        #fa.write([contact+\",\",info[0]+\",\",info[1]])\n",
    "    return \n",
    "filename='./DataFiles/data1.txt'\n",
    "#filedata=input()\n",
    "appendIntoFile(filename)"
   ]
  }
 ],
 "metadata": {
  "kernelspec": {
   "display_name": "Python 3",
   "language": "python",
   "name": "python3"
  },
  "language_info": {
   "codemirror_mode": {
    "name": "ipython",
    "version": 3
   },
   "file_extension": ".py",
   "mimetype": "text/x-python",
   "name": "python",
   "nbconvert_exporter": "python",
   "pygments_lexer": "ipython3",
   "version": "3.7.3"
  }
 },
 "nbformat": 4,
 "nbformat_minor": 2
}
